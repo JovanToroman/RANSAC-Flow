{
 "cells": [
  {
   "cell_type": "code",
   "execution_count": 1,
   "metadata": {},
   "outputs": [
    {
     "ename": "ImportError",
     "evalue": "cannot import name 'imresize' from 'scipy.misc' (/home/jovan/.local/lib/python3.8/site-packages/scipy/misc/__init__.py)",
     "output_type": "error",
     "traceback": [
      "\u001B[0;31m---------------------------------------------------------------------------\u001B[0m",
      "\u001B[0;31mImportError\u001B[0m                               Traceback (most recent call last)",
      "\u001B[0;32m<ipython-input-2-564d0caa4283>\u001B[0m in \u001B[0;36m<module>\u001B[0;34m\u001B[0m\n\u001B[0;32m----> 1\u001B[0;31m \u001B[0;32mfrom\u001B[0m \u001B[0mcoarseAlignFeatMatch\u001B[0m \u001B[0;32mimport\u001B[0m \u001B[0mCoarseAlign\u001B[0m\u001B[0;34m\u001B[0m\u001B[0;34m\u001B[0m\u001B[0m\n\u001B[0m\u001B[1;32m      2\u001B[0m \u001B[0;32mimport\u001B[0m \u001B[0msys\u001B[0m\u001B[0;34m\u001B[0m\u001B[0;34m\u001B[0m\u001B[0m\n\u001B[1;32m      3\u001B[0m \u001B[0msys\u001B[0m\u001B[0;34m.\u001B[0m\u001B[0mpath\u001B[0m\u001B[0;34m.\u001B[0m\u001B[0mappend\u001B[0m\u001B[0;34m(\u001B[0m\u001B[0;34m'../utils/'\u001B[0m\u001B[0;34m)\u001B[0m\u001B[0;34m\u001B[0m\u001B[0;34m\u001B[0m\u001B[0m\n\u001B[1;32m      4\u001B[0m \u001B[0;32mimport\u001B[0m \u001B[0mutils\u001B[0m\u001B[0;34m.\u001B[0m\u001B[0moutil\u001B[0m \u001B[0;32mas\u001B[0m \u001B[0moutil\u001B[0m\u001B[0;34m\u001B[0m\u001B[0;34m\u001B[0m\u001B[0m\n\u001B[1;32m      5\u001B[0m \u001B[0;34m\u001B[0m\u001B[0m\n",
      "\u001B[0;32m/opt/workspace/host_storage_hdd/projects/RANSAC-Flow/quick_start/coarseAlignFeatMatch.py\u001B[0m in \u001B[0;36m<module>\u001B[0;34m\u001B[0m\n\u001B[1;32m     20\u001B[0m \u001B[0;32mimport\u001B[0m \u001B[0moutil\u001B[0m\u001B[0;34m\u001B[0m\u001B[0;34m\u001B[0m\u001B[0m\n\u001B[1;32m     21\u001B[0m \u001B[0;34m\u001B[0m\u001B[0m\n\u001B[0;32m---> 22\u001B[0;31m \u001B[0;32mfrom\u001B[0m \u001B[0mscipy\u001B[0m\u001B[0;34m.\u001B[0m\u001B[0mmisc\u001B[0m \u001B[0;32mimport\u001B[0m \u001B[0mimresize\u001B[0m\u001B[0;34m\u001B[0m\u001B[0;34m\u001B[0m\u001B[0m\n\u001B[0m\u001B[1;32m     23\u001B[0m \u001B[0;32mfrom\u001B[0m \u001B[0mscipy\u001B[0m \u001B[0;32mimport\u001B[0m \u001B[0msignal\u001B[0m\u001B[0;34m\u001B[0m\u001B[0;34m\u001B[0m\u001B[0m\n\u001B[1;32m     24\u001B[0m \u001B[0;31m## resize image according to the minsize, at the same time resize the x,y coordinate\u001B[0m\u001B[0;34m\u001B[0m\u001B[0;34m\u001B[0m\u001B[0;34m\u001B[0m\u001B[0m\n",
      "\u001B[0;31mImportError\u001B[0m: cannot import name 'imresize' from 'scipy.misc' (/home/jovan/.local/lib/python3.8/site-packages/scipy/misc/__init__.py)"
     ]
    }
   ],
   "source": [
    "from coarseAlignFeatMatch import CoarseAlign\n",
    "import sys\n",
    "sys.path.append('../utils/')\n",
    "import utils.outil as outil\n",
    "\n",
    " \n",
    "sys.path.append('../model/')\n",
    "import model as model\n",
    "\n",
    "import PIL.Image as Image \n",
    "import os \n",
    "import numpy as np\n",
    "import torch\n",
    "from torchvision import transforms\n",
    "from tqdm import tqdm\n",
    "import argparse\n",
    "import warnings\n",
    "import torch.nn.functional as F\n",
    "import pickle \n",
    "import pandas as pd\n",
    "import kornia.geometry as tgm\n",
    "from itertools import product\n",
    "if not sys.warnoptions:\n",
    "    warnings.simplefilter(\"ignore\")\n",
    "import matplotlib.pyplot as plt \n",
    "%matplotlib inline \n",
    "\n",
    "## composite image    \n",
    "def get_Avg_Image(Is, It) : \n",
    "    \n",
    "    Is_arr, It_arr = np.array(Is) , np.array(It)\n",
    "    Imean = Is_arr * 0.5 + It_arr * 0.5\n",
    "    return Image.fromarray(Imean.astype(np.uint8))"
   ]
  },
  {
   "cell_type": "code",
   "execution_count": null,
   "metadata": {},
   "outputs": [],
   "source": [
    "resumePth = '../model/pretrained/MegaDepth_Theta1_Eta001_Grad1_0.774.pth' ## model for visualization\n",
    "kernelSize = 7\n",
    "\n",
    "Transform = outil.Homography\n",
    "nbPoint = 4\n",
    "    \n",
    "\n",
    "## Loading model\n",
    "# Define Networks\n",
    "network = {'netFeatCoarse' : model.FeatureExtractor(), \n",
    "           'netCorr'       : model.CorrNeigh(kernelSize),\n",
    "           'netFlowCoarse' : model.NetFlowCoarse(kernelSize), \n",
    "           'netMatch'      : model.NetMatchability(kernelSize),\n",
    "           }\n",
    "    \n",
    "\n",
    "for key in list(network.keys()) : \n",
    "    network[key].cuda()\n",
    "    typeData = torch.cuda.FloatTensor\n",
    "\n",
    "# loading Network \n",
    "param = torch.load(resumePth)\n",
    "msg = 'Loading pretrained model from {}'.format(resumePth)\n",
    "print (msg)\n",
    "\n",
    "for key in list(param.keys()) : \n",
    "    network[key].load_state_dict( param[key] ) \n",
    "    network[key].eval()"
   ]
  },
  {
   "cell_type": "markdown",
   "metadata": {},
   "source": [
    "### Without alignment"
   ]
  },
  {
   "cell_type": "code",
   "execution_count": null,
   "metadata": {},
   "outputs": [],
   "source": [
    "I1 = Image.open('../img/ArtMiner_Detail_Res13_10.png').convert('RGB')\n",
    "I2 = Image.open('../img/ArtMiner_Detail_Res13_11.png').convert('RGB')\n",
    "plt.figure(figsize=(20, 10))\n",
    "plt.subplot(1, 3, 1)\n",
    "plt.imshow(I1)\n",
    "plt.axis('off')\n",
    "plt.title('Source Image')\n",
    "plt.subplot(1, 3, 2)\n",
    "plt.imshow(I2)\n",
    "plt.axis('off')\n",
    "plt.title('Target Image')\n",
    "plt.subplot(1, 3, 3)\n",
    "plt.axis('off')\n",
    "plt.imshow(get_Avg_Image(I1.resize(I2.size), I2))\n",
    "plt.title('Overlapped Image')\n",
    "plt.show()"
   ]
  },
  {
   "cell_type": "markdown",
   "metadata": {},
   "source": [
    "### 7 scales, setting ransac parameters"
   ]
  },
  {
   "cell_type": "code",
   "execution_count": null,
   "metadata": {},
   "outputs": [],
   "source": [
    "nbScale = 7\n",
    "coarseIter = 10000\n",
    "coarsetolerance = 0.05\n",
    "minSize = 400\n",
    "imageNet = True # we can also use MOCO feature here\n",
    "scaleR = 1.2 \n",
    "\n",
    "coarseModel = CoarseAlign(nbScale, coarseIter, coarsetolerance, 'Homography', minSize, 1, True, imageNet, scaleR)"
   ]
  },
  {
   "cell_type": "code",
   "execution_count": null,
   "metadata": {},
   "outputs": [],
   "source": [
    "coarseModel.setSource(I1)\n",
    "coarseModel.setTarget(I2)\n",
    "\n",
    "I2w, I2h = coarseModel.It.size\n",
    "featt = F.normalize(network['netFeatCoarse'](coarseModel.ItTensor))\n",
    "            \n",
    "#### -- grid     \n",
    "gridY = torch.linspace(-1, 1, steps = I2h).view(1, -1, 1, 1).expand(1, I2h,  I2w, 1)\n",
    "gridX = torch.linspace(-1, 1, steps = I2w).view(1, 1, -1, 1).expand(1, I2h,  I2w, 1)\n",
    "grid = torch.cat((gridX, gridY), dim=3).cuda() \n",
    "warper = tgm.HomographyWarper(I2h,  I2w)\n",
    "\n",
    "bestPara, InlierMask = coarseModel.getCoarse(np.zeros((I2h, I2w)))\n",
    "bestPara = torch.from_numpy(bestPara).unsqueeze(0).cuda()"
   ]
  },
  {
   "cell_type": "markdown",
   "metadata": {},
   "source": [
    "### Coarse Alignment"
   ]
  },
  {
   "cell_type": "code",
   "execution_count": null,
   "metadata": {},
   "outputs": [],
   "source": [
    "flowCoarse = warper.warp_grid(bestPara)\n",
    "I1_coarse = F.grid_sample(coarseModel.IsTensor, flowCoarse)\n",
    "I1_coarse_pil = transforms.ToPILImage()(I1_coarse.cpu().squeeze())\n",
    "plt.figure(figsize=(20, 10))\n",
    "plt.subplot(1, 3, 1)\n",
    "plt.axis('off')\n",
    "plt.title('Source Image (Coarse)')\n",
    "plt.imshow(I1_coarse_pil)\n",
    "plt.subplot(1, 3, 2)\n",
    "plt.axis('off')\n",
    "plt.title('Target Image')\n",
    "plt.imshow(I2)\n",
    "plt.subplot(1, 3, 3)\n",
    "plt.title('Overlapped Image')\n",
    "plt.imshow(I2)\n",
    "plt.imshow(get_Avg_Image(I1_coarse_pil, coarseModel.It))\n",
    "plt.show()"
   ]
  },
  {
   "cell_type": "markdown",
   "metadata": {},
   "source": [
    "### Fine Alignment"
   ]
  },
  {
   "cell_type": "code",
   "execution_count": null,
   "metadata": {},
   "outputs": [],
   "source": [
    "featsSample = F.normalize(network['netFeatCoarse'](I1_coarse.cuda()))\n",
    "\n",
    "\n",
    "corr12 = network['netCorr'](featt, featsSample)\n",
    "flowDown8 = network['netFlowCoarse'](corr12, False) ## output is with dimension B, 2, W, H\n",
    "\n",
    "flowUp = F.interpolate(flowDown8, size=(grid.size()[1], grid.size()[2]), mode='bilinear')\n",
    "flowUp = flowUp.permute(0, 2, 3, 1)\n",
    "\n",
    "flowUp = flowUp + grid\n",
    "\n",
    "flow12 = F.grid_sample(flowCoarse.permute(0, 3, 1, 2), flowUp).permute(0, 2, 3, 1).contiguous()\n",
    "\n",
    "I1_fine = F.grid_sample(coarseModel.IsTensor, flow12)\n",
    "I1_fine_pil = transforms.ToPILImage()(I1_fine.cpu().squeeze())\n",
    "plt.figure(figsize=(20, 10))\n",
    "\n",
    "plt.subplot(1, 3, 1)\n",
    "plt.axis('off')\n",
    "plt.title('Source Image (Fine Alignment)')\n",
    "plt.imshow(I1_fine_pil)\n",
    "plt.subplot(1, 3, 2)\n",
    "plt.axis('off')\n",
    "plt.title('Target Image')\n",
    "plt.imshow(I2)\n",
    "plt.subplot(1, 3, 3)\n",
    "plt.axis('off')\n",
    "plt.title('Overlapped Image')\n",
    "plt.imshow(get_Avg_Image(I1_fine_pil, coarseModel.It))\n",
    "plt.show()"
   ]
  }
 ],
 "metadata": {
  "kernelspec": {
   "name": "pycharm-db09f473",
   "language": "python",
   "display_name": "PyCharm (RANSAC-Flow)"
  },
  "language_info": {
   "codemirror_mode": {
    "name": "ipython",
    "version": 3
   },
   "file_extension": ".py",
   "mimetype": "text/x-python",
   "name": "python",
   "nbconvert_exporter": "python",
   "pygments_lexer": "ipython3",
   "version": "3.8.3"
  }
 },
 "nbformat": 4,
 "nbformat_minor": 2
}